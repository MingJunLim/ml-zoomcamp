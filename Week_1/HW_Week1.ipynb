{
 "cells": [
  {
   "cell_type": "code",
   "execution_count": 37,
   "id": "48340730-5ea0-4c77-b5b2-0d93b4b121ed",
   "metadata": {},
   "outputs": [],
   "source": [
    "import pandas as pd\n",
    "import numpy as np"
   ]
  },
  {
   "cell_type": "code",
   "execution_count": 2,
   "id": "ad4d236b-8319-43d5-831b-a74ffa8b73ab",
   "metadata": {},
   "outputs": [
    {
     "data": {
      "text/plain": [
       "'2.1.0'"
      ]
     },
     "execution_count": 2,
     "metadata": {},
     "output_type": "execute_result"
    }
   ],
   "source": [
    "pd.__version__"
   ]
  },
  {
   "cell_type": "code",
   "execution_count": 3,
   "id": "a38cabff-7f65-4ddf-b558-a79f4f7137ca",
   "metadata": {},
   "outputs": [
    {
     "name": "stdout",
     "output_type": "stream",
     "text": [
      "       longitude  latitude  housing_median_age  total_rooms  total_bedrooms  \\\n",
      "0        -122.23     37.88                41.0        880.0           129.0   \n",
      "1        -122.22     37.86                21.0       7099.0          1106.0   \n",
      "2        -122.24     37.85                52.0       1467.0           190.0   \n",
      "3        -122.25     37.85                52.0       1274.0           235.0   \n",
      "4        -122.25     37.85                52.0       1627.0           280.0   \n",
      "...          ...       ...                 ...          ...             ...   \n",
      "20635    -121.09     39.48                25.0       1665.0           374.0   \n",
      "20636    -121.21     39.49                18.0        697.0           150.0   \n",
      "20637    -121.22     39.43                17.0       2254.0           485.0   \n",
      "20638    -121.32     39.43                18.0       1860.0           409.0   \n",
      "20639    -121.24     39.37                16.0       2785.0           616.0   \n",
      "\n",
      "       population  households  median_income  median_house_value  \\\n",
      "0           322.0       126.0         8.3252            452600.0   \n",
      "1          2401.0      1138.0         8.3014            358500.0   \n",
      "2           496.0       177.0         7.2574            352100.0   \n",
      "3           558.0       219.0         5.6431            341300.0   \n",
      "4           565.0       259.0         3.8462            342200.0   \n",
      "...           ...         ...            ...                 ...   \n",
      "20635       845.0       330.0         1.5603             78100.0   \n",
      "20636       356.0       114.0         2.5568             77100.0   \n",
      "20637      1007.0       433.0         1.7000             92300.0   \n",
      "20638       741.0       349.0         1.8672             84700.0   \n",
      "20639      1387.0       530.0         2.3886             89400.0   \n",
      "\n",
      "      ocean_proximity  \n",
      "0            NEAR BAY  \n",
      "1            NEAR BAY  \n",
      "2            NEAR BAY  \n",
      "3            NEAR BAY  \n",
      "4            NEAR BAY  \n",
      "...               ...  \n",
      "20635          INLAND  \n",
      "20636          INLAND  \n",
      "20637          INLAND  \n",
      "20638          INLAND  \n",
      "20639          INLAND  \n",
      "\n",
      "[20640 rows x 10 columns]\n"
     ]
    }
   ],
   "source": [
    "# assigning url to a variable\n",
    "url = \"https://raw.githubusercontent.com/alexeygrigorev/datasets/master/housing.csv\"\n",
    " \n",
    "# passing parameter to the function\n",
    "df = pd.read_csv(url)\n",
    "print(df)"
   ]
  },
  {
   "cell_type": "code",
   "execution_count": 4,
   "id": "f51be1d4-9364-4ed1-a2e0-bc2b0e213393",
   "metadata": {},
   "outputs": [
    {
     "data": {
      "text/plain": [
       "longitude               0\n",
       "latitude                0\n",
       "housing_median_age      0\n",
       "total_rooms             0\n",
       "total_bedrooms        207\n",
       "population              0\n",
       "households              0\n",
       "median_income           0\n",
       "median_house_value      0\n",
       "ocean_proximity         0\n",
       "dtype: int64"
      ]
     },
     "execution_count": 4,
     "metadata": {},
     "output_type": "execute_result"
    }
   ],
   "source": [
    "df.isna().sum()"
   ]
  },
  {
   "cell_type": "code",
   "execution_count": 5,
   "id": "de7e2402-489e-42f4-9bf0-11b52e6a3482",
   "metadata": {},
   "outputs": [
    {
     "data": {
      "text/plain": [
       "5"
      ]
     },
     "execution_count": 5,
     "metadata": {},
     "output_type": "execute_result"
    }
   ],
   "source": [
    "df['ocean_proximity']. nunique()"
   ]
  },
  {
   "cell_type": "code",
   "execution_count": 6,
   "id": "cbd85c20-4e8c-4d3e-9108-fa4308d9864f",
   "metadata": {},
   "outputs": [
    {
     "data": {
      "text/plain": [
       "array(['NEAR BAY', '<1H OCEAN', 'INLAND', 'NEAR OCEAN', 'ISLAND'],\n",
       "      dtype=object)"
      ]
     },
     "execution_count": 6,
     "metadata": {},
     "output_type": "execute_result"
    }
   ],
   "source": [
    "df['ocean_proximity']. unique()"
   ]
  },
  {
   "cell_type": "code",
   "execution_count": 7,
   "id": "391c7b55-15b2-47dc-8ac6-75960725a56d",
   "metadata": {},
   "outputs": [
    {
     "data": {
      "text/plain": [
       "ocean_proximity\n",
       "<1H OCEAN     240084.285464\n",
       "INLAND        124805.392001\n",
       "ISLAND        380440.000000\n",
       "NEAR BAY      259212.311790\n",
       "NEAR OCEAN    249433.977427\n",
       "Name: median_house_value, dtype: float64"
      ]
     },
     "execution_count": 7,
     "metadata": {},
     "output_type": "execute_result"
    }
   ],
   "source": [
    "df.groupby('ocean_proximity').median_house_value.mean()"
   ]
  },
  {
   "cell_type": "code",
   "execution_count": 26,
   "id": "f704fb82-c26e-46ba-91e7-b5318a62f024",
   "metadata": {},
   "outputs": [],
   "source": [
    "df = pd.read_csv(url)"
   ]
  },
  {
   "cell_type": "code",
   "execution_count": 27,
   "id": "10fc7083-c54f-4b6e-80f8-328b3158605a",
   "metadata": {},
   "outputs": [
    {
     "name": "stdout",
     "output_type": "stream",
     "text": [
      "537.871\n"
     ]
    }
   ],
   "source": [
    "bedroom_mean = round(df.total_bedrooms.mean(), 3)\n",
    "print(bedroom_mean)"
   ]
  },
  {
   "cell_type": "code",
   "execution_count": 28,
   "id": "f258d0b5-3b57-4b3a-8655-0006a9f5f03a",
   "metadata": {},
   "outputs": [
    {
     "name": "stdout",
     "output_type": "stream",
     "text": [
      "537.871\n"
     ]
    }
   ],
   "source": [
    "df.total_bedrooms = df.total_bedrooms.fillna(bedroom_mean)\n",
    "new_bedroom_mean = round(df.total_bedrooms.mean(), 3)\n",
    "print(new_bedroom_mean)"
   ]
  },
  {
   "cell_type": "code",
   "execution_count": 29,
   "id": "d1ccca68-c973-4dbf-984b-2247810cb3a9",
   "metadata": {},
   "outputs": [
    {
     "data": {
      "text/plain": [
       "longitude             0\n",
       "latitude              0\n",
       "housing_median_age    0\n",
       "total_rooms           0\n",
       "total_bedrooms        0\n",
       "population            0\n",
       "households            0\n",
       "median_income         0\n",
       "median_house_value    0\n",
       "ocean_proximity       0\n",
       "dtype: int64"
      ]
     },
     "execution_count": 29,
     "metadata": {},
     "output_type": "execute_result"
    }
   ],
   "source": [
    "df.isna().sum()"
   ]
  },
  {
   "cell_type": "code",
   "execution_count": 36,
   "id": "6c6d85f5-38b3-43b3-9e88-ed3a44cfef62",
   "metadata": {},
   "outputs": [
    {
     "name": "stdout",
     "output_type": "stream",
     "text": [
      "      housing_median_age  total_rooms  total_bedrooms\n",
      "8314                27.0       1675.0           521.0\n",
      "8315                52.0       2359.0           591.0\n",
      "8316                52.0       2127.0           512.0\n",
      "8317                52.0        996.0           264.0\n",
      "8318                29.0        716.0           214.0\n"
     ]
    }
   ],
   "source": [
    "q7 = df[df['ocean_proximity'] == 'ISLAND']\n",
    "q7 = q7[[\"housing_median_age\", \"total_rooms\", \"total_bedrooms\"]]\n",
    "\n",
    "print(q7)"
   ]
  },
  {
   "cell_type": "code",
   "execution_count": 38,
   "id": "6f1386df-a9e9-4ab7-a04f-306b687e9255",
   "metadata": {},
   "outputs": [
    {
     "data": {
      "text/plain": [
       "array([[ 9.19403586e-04, -3.66412216e-05,  5.43072261e-05],\n",
       "       [-3.66412216e-05,  8.23303633e-06, -2.77534485e-05],\n",
       "       [ 5.43072261e-05, -2.77534485e-05,  1.00891325e-04]])"
      ]
     },
     "execution_count": 38,
     "metadata": {},
     "output_type": "execute_result"
    }
   ],
   "source": [
    "X = q7.to_numpy()\n",
    "XTX = X.T @ X\n",
    "XTX_inv = np.linalg.inv(XTX)\n",
    "XTX_inv"
   ]
  },
  {
   "cell_type": "code",
   "execution_count": 39,
   "id": "817e36ea-0c14-4aef-8624-a90a76dafd7e",
   "metadata": {},
   "outputs": [],
   "source": [
    "y = np.array([950, 1300, 800, 1000, 1300])"
   ]
  },
  {
   "cell_type": "code",
   "execution_count": 40,
   "id": "be84d82d-52c4-428b-a5f2-3d3c1562d54b",
   "metadata": {},
   "outputs": [
    {
     "name": "stdout",
     "output_type": "stream",
     "text": [
      "[23.12330961 -1.48124183  5.69922946]\n"
     ]
    }
   ],
   "source": [
    "w = (XTX_inv @ X.T) @ y\n",
    "print(w)"
   ]
  },
  {
   "cell_type": "code",
   "execution_count": 41,
   "id": "f112db2b-d650-4373-b112-0164c5c2c9db",
   "metadata": {},
   "outputs": [
    {
     "data": {
      "text/plain": [
       "5.699229455065565"
      ]
     },
     "execution_count": 41,
     "metadata": {},
     "output_type": "execute_result"
    }
   ],
   "source": [
    "w[-1]"
   ]
  }
 ],
 "metadata": {
  "kernelspec": {
   "display_name": "Python 3 (ipykernel)",
   "language": "python",
   "name": "python3"
  },
  "language_info": {
   "codemirror_mode": {
    "name": "ipython",
    "version": 3
   },
   "file_extension": ".py",
   "mimetype": "text/x-python",
   "name": "python",
   "nbconvert_exporter": "python",
   "pygments_lexer": "ipython3",
   "version": "3.9.18"
  }
 },
 "nbformat": 4,
 "nbformat_minor": 5
}
