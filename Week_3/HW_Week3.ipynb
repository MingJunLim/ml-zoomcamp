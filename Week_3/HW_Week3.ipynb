{
 "cells": [
  {
   "cell_type": "code",
   "execution_count": 38,
   "id": "8065825b-0772-4f21-8c90-44b62abbda5a",
   "metadata": {},
   "outputs": [],
   "source": [
    "import pandas as pd\n",
    "import numpy as np\n",
    "\n",
    "import matplotlib.pyplot as plt\n",
    "\n",
    "from sklearn.linear_model import Ridge\n",
    "from sklearn.metrics import mean_squared_error"
   ]
  },
  {
   "cell_type": "code",
   "execution_count": null,
   "id": "126ce677-f2a4-47fb-b59e-f1fe4b7dd930",
   "metadata": {},
   "outputs": [],
   "source": [
    "data = 'https://raw.githubusercontent.com/alexeygrigorev/mlbookcamp-code/master/chapter-02-car-price/data.csv'"
   ]
  },
  {
   "cell_type": "code",
   "execution_count": null,
   "id": "e330d133-8006-4e80-8070-f26e98d7143c",
   "metadata": {},
   "outputs": [],
   "source": [
    "!wget $data -O data-week-3.csv "
   ]
  },
  {
   "cell_type": "code",
   "execution_count": null,
   "id": "9c5eed54-899c-4959-9678-7eb5e0cfad61",
   "metadata": {},
   "outputs": [],
   "source": [
    "df = pd.read_csv('data-week-3.csv')\n",
    "df.head()"
   ]
  },
  {
   "cell_type": "code",
   "execution_count": 5,
   "id": "fceacb01-00e9-421a-baaa-13de77710743",
   "metadata": {},
   "outputs": [
    {
     "data": {
      "text/html": [
       "<div>\n",
       "<style scoped>\n",
       "    .dataframe tbody tr th:only-of-type {\n",
       "        vertical-align: middle;\n",
       "    }\n",
       "\n",
       "    .dataframe tbody tr th {\n",
       "        vertical-align: top;\n",
       "    }\n",
       "\n",
       "    .dataframe thead th {\n",
       "        text-align: right;\n",
       "    }\n",
       "</style>\n",
       "<table border=\"1\" class=\"dataframe\">\n",
       "  <thead>\n",
       "    <tr style=\"text-align: right;\">\n",
       "      <th></th>\n",
       "      <th>Make</th>\n",
       "      <th>Model</th>\n",
       "      <th>Year</th>\n",
       "      <th>Engine HP</th>\n",
       "      <th>Engine Cylinders</th>\n",
       "      <th>Transmission Type</th>\n",
       "      <th>Vehicle Style</th>\n",
       "      <th>highway MPG</th>\n",
       "      <th>city mpg</th>\n",
       "      <th>MSRP</th>\n",
       "    </tr>\n",
       "  </thead>\n",
       "  <tbody>\n",
       "    <tr>\n",
       "      <th>0</th>\n",
       "      <td>BMW</td>\n",
       "      <td>1 Series M</td>\n",
       "      <td>2011</td>\n",
       "      <td>335.0</td>\n",
       "      <td>6.0</td>\n",
       "      <td>MANUAL</td>\n",
       "      <td>Coupe</td>\n",
       "      <td>26</td>\n",
       "      <td>19</td>\n",
       "      <td>46135</td>\n",
       "    </tr>\n",
       "    <tr>\n",
       "      <th>1</th>\n",
       "      <td>BMW</td>\n",
       "      <td>1 Series</td>\n",
       "      <td>2011</td>\n",
       "      <td>300.0</td>\n",
       "      <td>6.0</td>\n",
       "      <td>MANUAL</td>\n",
       "      <td>Convertible</td>\n",
       "      <td>28</td>\n",
       "      <td>19</td>\n",
       "      <td>40650</td>\n",
       "    </tr>\n",
       "    <tr>\n",
       "      <th>2</th>\n",
       "      <td>BMW</td>\n",
       "      <td>1 Series</td>\n",
       "      <td>2011</td>\n",
       "      <td>300.0</td>\n",
       "      <td>6.0</td>\n",
       "      <td>MANUAL</td>\n",
       "      <td>Coupe</td>\n",
       "      <td>28</td>\n",
       "      <td>20</td>\n",
       "      <td>36350</td>\n",
       "    </tr>\n",
       "    <tr>\n",
       "      <th>3</th>\n",
       "      <td>BMW</td>\n",
       "      <td>1 Series</td>\n",
       "      <td>2011</td>\n",
       "      <td>230.0</td>\n",
       "      <td>6.0</td>\n",
       "      <td>MANUAL</td>\n",
       "      <td>Coupe</td>\n",
       "      <td>28</td>\n",
       "      <td>18</td>\n",
       "      <td>29450</td>\n",
       "    </tr>\n",
       "    <tr>\n",
       "      <th>4</th>\n",
       "      <td>BMW</td>\n",
       "      <td>1 Series</td>\n",
       "      <td>2011</td>\n",
       "      <td>230.0</td>\n",
       "      <td>6.0</td>\n",
       "      <td>MANUAL</td>\n",
       "      <td>Convertible</td>\n",
       "      <td>28</td>\n",
       "      <td>18</td>\n",
       "      <td>34500</td>\n",
       "    </tr>\n",
       "  </tbody>\n",
       "</table>\n",
       "</div>"
      ],
      "text/plain": [
       "  Make       Model  Year  Engine HP  Engine Cylinders Transmission Type  \\\n",
       "0  BMW  1 Series M  2011      335.0               6.0            MANUAL   \n",
       "1  BMW    1 Series  2011      300.0               6.0            MANUAL   \n",
       "2  BMW    1 Series  2011      300.0               6.0            MANUAL   \n",
       "3  BMW    1 Series  2011      230.0               6.0            MANUAL   \n",
       "4  BMW    1 Series  2011      230.0               6.0            MANUAL   \n",
       "\n",
       "  Vehicle Style  highway MPG  city mpg   MSRP  \n",
       "0         Coupe           26        19  46135  \n",
       "1   Convertible           28        19  40650  \n",
       "2         Coupe           28        20  36350  \n",
       "3         Coupe           28        18  29450  \n",
       "4   Convertible           28        18  34500  "
      ]
     },
     "execution_count": 5,
     "metadata": {},
     "output_type": "execute_result"
    }
   ],
   "source": [
    "df = df[['Make', 'Model', 'Year', 'Engine HP', 'Engine Cylinders', 'Transmission Type', 'Vehicle Style', 'highway MPG', 'city mpg', 'MSRP']]\n",
    "df.head()"
   ]
  },
  {
   "cell_type": "code",
   "execution_count": 6,
   "id": "9523ff84-4569-46c0-9c4e-179449564ab2",
   "metadata": {},
   "outputs": [],
   "source": [
    "df.columns = df.columns.str.replace(' ', '_').str.lower()\n",
    "\n",
    "categorical_columns = list(df.dtypes[df.dtypes == 'object'].index)\n",
    "\n",
    "for c in categorical_columns:\n",
    "    df.loc[:, c] = df[c].str.lower().str.replace(' ', '_')"
   ]
  },
  {
   "cell_type": "code",
   "execution_count": 7,
   "id": "98458762-a54b-4adf-bc5e-81b27a661963",
   "metadata": {},
   "outputs": [
    {
     "data": {
      "text/plain": [
       "make                  0\n",
       "model                 0\n",
       "year                  0\n",
       "engine_hp            69\n",
       "engine_cylinders     30\n",
       "transmission_type     0\n",
       "vehicle_style         0\n",
       "highway_mpg           0\n",
       "city_mpg              0\n",
       "msrp                  0\n",
       "dtype: int64"
      ]
     },
     "execution_count": 7,
     "metadata": {},
     "output_type": "execute_result"
    }
   ],
   "source": [
    "df.isna().sum()"
   ]
  },
  {
   "cell_type": "code",
   "execution_count": 8,
   "id": "3c53f10f-ef84-4ed3-81b9-2c79b3888e0e",
   "metadata": {},
   "outputs": [
    {
     "data": {
      "text/plain": [
       "make                 0\n",
       "model                0\n",
       "year                 0\n",
       "engine_hp            0\n",
       "engine_cylinders     0\n",
       "transmission_type    0\n",
       "vehicle_style        0\n",
       "highway_mpg          0\n",
       "city_mpg             0\n",
       "msrp                 0\n",
       "dtype: int64"
      ]
     },
     "execution_count": 8,
     "metadata": {},
     "output_type": "execute_result"
    }
   ],
   "source": [
    "df = df.fillna(0)\n",
    "df.isna().sum()"
   ]
  },
  {
   "cell_type": "code",
   "execution_count": 9,
   "id": "48fe7871-502e-44ae-b313-40bfde9fa550",
   "metadata": {},
   "outputs": [
    {
     "name": "stdout",
     "output_type": "stream",
     "text": [
      "          make       model  year  engine_hp  engine_cylinders  \\\n",
      "0          bmw  1_series_m  2011      335.0               6.0   \n",
      "1          bmw    1_series  2011      300.0               6.0   \n",
      "2          bmw    1_series  2011      300.0               6.0   \n",
      "3          bmw    1_series  2011      230.0               6.0   \n",
      "4          bmw    1_series  2011      230.0               6.0   \n",
      "...        ...         ...   ...        ...               ...   \n",
      "11909    acura         zdx  2012      300.0               6.0   \n",
      "11910    acura         zdx  2012      300.0               6.0   \n",
      "11911    acura         zdx  2012      300.0               6.0   \n",
      "11912    acura         zdx  2013      300.0               6.0   \n",
      "11913  lincoln      zephyr  2006      221.0               6.0   \n",
      "\n",
      "      transmission_type  vehicle_style  highway_mpg  city_mpg  price  \n",
      "0                manual          coupe           26        19  46135  \n",
      "1                manual    convertible           28        19  40650  \n",
      "2                manual          coupe           28        20  36350  \n",
      "3                manual          coupe           28        18  29450  \n",
      "4                manual    convertible           28        18  34500  \n",
      "...                 ...            ...          ...       ...    ...  \n",
      "11909         automatic  4dr_hatchback           23        16  46120  \n",
      "11910         automatic  4dr_hatchback           23        16  56670  \n",
      "11911         automatic  4dr_hatchback           23        16  50620  \n",
      "11912         automatic  4dr_hatchback           23        16  50920  \n",
      "11913         automatic          sedan           26        17  28995  \n",
      "\n",
      "[11914 rows x 10 columns]\n"
     ]
    }
   ],
   "source": [
    "df.rename(columns={'msrp': 'price'}, inplace=True)\n",
    "\n",
    "print(df)"
   ]
  },
  {
   "cell_type": "code",
   "execution_count": 10,
   "id": "29ad9fda-87f8-4d54-ad81-ea19a64cf520",
   "metadata": {},
   "outputs": [
    {
     "name": "stdout",
     "output_type": "stream",
     "text": [
      "0    automatic\n",
      "Name: transmission_type, dtype: object\n"
     ]
    }
   ],
   "source": [
    "print(df.transmission_type.mode())"
   ]
  },
  {
   "cell_type": "code",
   "execution_count": 11,
   "id": "a0ffbd7a-4aaf-4d73-b873-c1c3f9a57b7c",
   "metadata": {},
   "outputs": [
    {
     "name": "stdout",
     "output_type": "stream",
     "text": [
      "                  engine_hp      year  highway_mpg  engine_cylinders  city_mpg\n",
      "engine_hp          1.000000  0.338714    -0.415707          0.774851 -0.424918\n",
      "year               0.338714  1.000000     0.258240         -0.040708  0.198171\n",
      "highway_mpg       -0.415707  0.258240     1.000000         -0.614541  0.886829\n",
      "engine_cylinders   0.774851 -0.040708    -0.614541          1.000000 -0.587306\n",
      "city_mpg          -0.424918  0.198171     0.886829         -0.587306  1.000000\n"
     ]
    }
   ],
   "source": [
    "numeric_df = df[['engine_hp', 'year', 'highway_mpg', 'engine_cylinders', 'city_mpg']]\n",
    "# print(numeric_df)\n",
    "correlation_matrix = numeric_df.corr()\n",
    "\n",
    "print(correlation_matrix)"
   ]
  },
  {
   "cell_type": "code",
   "execution_count": 12,
   "id": "8ab9e748-5757-4734-a770-c8b7fd7ee709",
   "metadata": {},
   "outputs": [
    {
     "name": "stdout",
     "output_type": "stream",
     "text": [
      "40594.737032063116\n"
     ]
    }
   ],
   "source": [
    "average_price = df.price.mean()\n",
    "print(average_price)"
   ]
  },
  {
   "cell_type": "code",
   "execution_count": 13,
   "id": "c1b88126-ca82-46ec-a82e-421f6d3cbe20",
   "metadata": {},
   "outputs": [
    {
     "name": "stdout",
     "output_type": "stream",
     "text": [
      "          make       model  year  engine_hp  engine_cylinders  \\\n",
      "0          bmw  1_series_m  2011      335.0               6.0   \n",
      "1          bmw    1_series  2011      300.0               6.0   \n",
      "2          bmw    1_series  2011      300.0               6.0   \n",
      "3          bmw    1_series  2011      230.0               6.0   \n",
      "4          bmw    1_series  2011      230.0               6.0   \n",
      "...        ...         ...   ...        ...               ...   \n",
      "11909    acura         zdx  2012      300.0               6.0   \n",
      "11910    acura         zdx  2012      300.0               6.0   \n",
      "11911    acura         zdx  2012      300.0               6.0   \n",
      "11912    acura         zdx  2013      300.0               6.0   \n",
      "11913  lincoln      zephyr  2006      221.0               6.0   \n",
      "\n",
      "      transmission_type  vehicle_style  highway_mpg  city_mpg  price  \\\n",
      "0                manual          coupe           26        19  46135   \n",
      "1                manual    convertible           28        19  40650   \n",
      "2                manual          coupe           28        20  36350   \n",
      "3                manual          coupe           28        18  29450   \n",
      "4                manual    convertible           28        18  34500   \n",
      "...                 ...            ...          ...       ...    ...   \n",
      "11909         automatic  4dr_hatchback           23        16  46120   \n",
      "11910         automatic  4dr_hatchback           23        16  56670   \n",
      "11911         automatic  4dr_hatchback           23        16  50620   \n",
      "11912         automatic  4dr_hatchback           23        16  50920   \n",
      "11913         automatic          sedan           26        17  28995   \n",
      "\n",
      "       above_average  \n",
      "0                  1  \n",
      "1                  1  \n",
      "2                  0  \n",
      "3                  0  \n",
      "4                  0  \n",
      "...              ...  \n",
      "11909              1  \n",
      "11910              1  \n",
      "11911              1  \n",
      "11912              1  \n",
      "11913              0  \n",
      "\n",
      "[11914 rows x 11 columns]\n"
     ]
    }
   ],
   "source": [
    "df['above_average'] = (df['price'] > average_price).astype(int)\n",
    "\n",
    "print(df)"
   ]
  },
  {
   "cell_type": "markdown",
   "id": "0cc9eb91-4160-4526-ac51-ebc8ea8cc748",
   "metadata": {},
   "source": [
    "### Perform the train/validation/test split with Scikit-Learn"
   ]
  },
  {
   "cell_type": "code",
   "execution_count": 14,
   "id": "8aad0522-ffa1-45e8-9ae6-42d41154832e",
   "metadata": {},
   "outputs": [],
   "source": [
    "from sklearn.model_selection import train_test_split"
   ]
  },
  {
   "cell_type": "code",
   "execution_count": 15,
   "id": "4fa37e08-c766-4d6d-b40e-c49a9dbc8e7f",
   "metadata": {},
   "outputs": [],
   "source": [
    "# y = df['above_average']\n",
    "# df = df.drop(columns=['above_average'])"
   ]
  },
  {
   "cell_type": "code",
   "execution_count": 16,
   "id": "16eee717-1135-4e0f-b6d2-2f6cda4ae1de",
   "metadata": {},
   "outputs": [],
   "source": [
    "df_full_train, df_test = train_test_split(df, test_size=0.2, random_state=42)\n",
    "df_train, df_val = train_test_split(df_full_train, test_size=0.25, random_state=42)"
   ]
  },
  {
   "cell_type": "code",
   "execution_count": 17,
   "id": "36cc59a0-7f18-49b1-8c89-3c260e5b326e",
   "metadata": {},
   "outputs": [
    {
     "data": {
      "text/plain": [
       "(7148, 2383, 2383)"
      ]
     },
     "execution_count": 17,
     "metadata": {},
     "output_type": "execute_result"
    }
   ],
   "source": [
    "len(df_train), len(df_val), len(df_test)"
   ]
  },
  {
   "cell_type": "code",
   "execution_count": 18,
   "id": "236d92ce-7c29-4596-80f5-0633c5d34ebb",
   "metadata": {},
   "outputs": [],
   "source": [
    "df_train = df_train.reset_index(drop=True)\n",
    "df_val = df_val.reset_index(drop=True)\n",
    "df_test = df_test.reset_index(drop=True)"
   ]
  },
  {
   "cell_type": "code",
   "execution_count": 19,
   "id": "82a3b573-7910-4167-8365-c002caa8f1e0",
   "metadata": {},
   "outputs": [],
   "source": [
    "y_train = df_train.above_average.values\n",
    "y_val = df_val.above_average.values\n",
    "y_test = df_test.above_average.values\n",
    "\n",
    "del df_train['above_average']\n",
    "del df_val['above_average']\n",
    "del df_test['above_average']"
   ]
  },
  {
   "cell_type": "code",
   "execution_count": 20,
   "id": "ce3c5a26-59c4-4186-a83a-78f9e0b1be20",
   "metadata": {},
   "outputs": [
    {
     "name": "stdout",
     "output_type": "stream",
     "text": [
      "(7148, 10)\n",
      "(2383, 10)\n",
      "(2383, 10)\n"
     ]
    }
   ],
   "source": [
    "print(df_train.shape)\n",
    "print(df_val.shape)\n",
    "print(df_test.shape)"
   ]
  },
  {
   "cell_type": "markdown",
   "id": "0fa98ecf-991b-46a2-8db3-50301d5ba372",
   "metadata": {},
   "source": [
    "### Mutual information score"
   ]
  },
  {
   "cell_type": "code",
   "execution_count": 21,
   "id": "62b546f8-afd6-42b1-93fb-5e1caf9572b6",
   "metadata": {},
   "outputs": [],
   "source": [
    "from sklearn.metrics import mutual_info_score"
   ]
  },
  {
   "cell_type": "code",
   "execution_count": 22,
   "id": "8d2e39e9-11f9-4374-8a62-d03b804b46bc",
   "metadata": {},
   "outputs": [],
   "source": [
    "categorical = [\n",
    "    'make',\n",
    "    'model',\n",
    "    'transmission_type',\n",
    "    'vehicle_style'\n",
    "]\n",
    "numerical = [\n",
    "    'engine_hp',\n",
    "    'year',\n",
    "    'highway_mpg',\n",
    "    'engine_cylinders',\n",
    "    'city_mpg'\n",
    "]\n",
    "# print(df_train[categorical])"
   ]
  },
  {
   "cell_type": "code",
   "execution_count": 23,
   "id": "4654362e-724e-45c2-9939-00b4d97fa2c3",
   "metadata": {},
   "outputs": [],
   "source": [
    "def mutual_info_churn_score(series):\n",
    "    my_value = mutual_info_score(series, y_train)\n",
    "    return round(my_value, 2)"
   ]
  },
  {
   "cell_type": "code",
   "execution_count": 24,
   "id": "46a6c189-1a6a-46fe-97ba-3446e0113adc",
   "metadata": {},
   "outputs": [
    {
     "data": {
      "text/plain": [
       "model                0.46\n",
       "make                 0.24\n",
       "vehicle_style        0.08\n",
       "transmission_type    0.02\n",
       "dtype: float64"
      ]
     },
     "execution_count": 24,
     "metadata": {},
     "output_type": "execute_result"
    }
   ],
   "source": [
    "mi = df_train[categorical].apply(mutual_info_churn_score)\n",
    "mi.sort_values(ascending=False)"
   ]
  },
  {
   "cell_type": "markdown",
   "id": "94edbead-2b50-4ab0-ae2d-f2bc9bcfce77",
   "metadata": {},
   "source": [
    "### One-hot encoding"
   ]
  },
  {
   "cell_type": "code",
   "execution_count": 25,
   "id": "0e55f45f-700e-46b2-960b-a73d8d83ae89",
   "metadata": {},
   "outputs": [],
   "source": [
    "from sklearn.feature_extraction import DictVectorizer"
   ]
  },
  {
   "cell_type": "code",
   "execution_count": 26,
   "id": "de0243d9-73bd-4e30-a928-f4cfa4a918f0",
   "metadata": {},
   "outputs": [],
   "source": [
    "dv = DictVectorizer(sparse=False)\n",
    "\n",
    "train_dict = df_train[categorical + numerical].to_dict(orient='records')\n",
    "X_train = dv.fit_transform(train_dict)\n",
    "\n",
    "val_dict = df_val[categorical + numerical].to_dict(orient='records')\n",
    "X_val = dv.transform(val_dict)"
   ]
  },
  {
   "cell_type": "markdown",
   "id": "2cf1bb69-af3c-479d-8e00-dd8583714b37",
   "metadata": {},
   "source": [
    "### Training logistic regression with Scikit-Learn"
   ]
  },
  {
   "cell_type": "code",
   "execution_count": 31,
   "id": "1c9b056f-21d8-49c5-b90d-680ee2f92311",
   "metadata": {},
   "outputs": [],
   "source": [
    "from sklearn.linear_model import LogisticRegression\n",
    "from sklearn.metrics import accuracy_score"
   ]
  },
  {
   "cell_type": "code",
   "execution_count": 28,
   "id": "8b64a74b-5ebf-4096-8fd6-c966ddd6e74a",
   "metadata": {},
   "outputs": [
    {
     "data": {
      "text/html": [
       "<style>#sk-container-id-1 {color: black;}#sk-container-id-1 pre{padding: 0;}#sk-container-id-1 div.sk-toggleable {background-color: white;}#sk-container-id-1 label.sk-toggleable__label {cursor: pointer;display: block;width: 100%;margin-bottom: 0;padding: 0.3em;box-sizing: border-box;text-align: center;}#sk-container-id-1 label.sk-toggleable__label-arrow:before {content: \"▸\";float: left;margin-right: 0.25em;color: #696969;}#sk-container-id-1 label.sk-toggleable__label-arrow:hover:before {color: black;}#sk-container-id-1 div.sk-estimator:hover label.sk-toggleable__label-arrow:before {color: black;}#sk-container-id-1 div.sk-toggleable__content {max-height: 0;max-width: 0;overflow: hidden;text-align: left;background-color: #f0f8ff;}#sk-container-id-1 div.sk-toggleable__content pre {margin: 0.2em;color: black;border-radius: 0.25em;background-color: #f0f8ff;}#sk-container-id-1 input.sk-toggleable__control:checked~div.sk-toggleable__content {max-height: 200px;max-width: 100%;overflow: auto;}#sk-container-id-1 input.sk-toggleable__control:checked~label.sk-toggleable__label-arrow:before {content: \"▾\";}#sk-container-id-1 div.sk-estimator input.sk-toggleable__control:checked~label.sk-toggleable__label {background-color: #d4ebff;}#sk-container-id-1 div.sk-label input.sk-toggleable__control:checked~label.sk-toggleable__label {background-color: #d4ebff;}#sk-container-id-1 input.sk-hidden--visually {border: 0;clip: rect(1px 1px 1px 1px);clip: rect(1px, 1px, 1px, 1px);height: 1px;margin: -1px;overflow: hidden;padding: 0;position: absolute;width: 1px;}#sk-container-id-1 div.sk-estimator {font-family: monospace;background-color: #f0f8ff;border: 1px dotted black;border-radius: 0.25em;box-sizing: border-box;margin-bottom: 0.5em;}#sk-container-id-1 div.sk-estimator:hover {background-color: #d4ebff;}#sk-container-id-1 div.sk-parallel-item::after {content: \"\";width: 100%;border-bottom: 1px solid gray;flex-grow: 1;}#sk-container-id-1 div.sk-label:hover label.sk-toggleable__label {background-color: #d4ebff;}#sk-container-id-1 div.sk-serial::before {content: \"\";position: absolute;border-left: 1px solid gray;box-sizing: border-box;top: 0;bottom: 0;left: 50%;z-index: 0;}#sk-container-id-1 div.sk-serial {display: flex;flex-direction: column;align-items: center;background-color: white;padding-right: 0.2em;padding-left: 0.2em;position: relative;}#sk-container-id-1 div.sk-item {position: relative;z-index: 1;}#sk-container-id-1 div.sk-parallel {display: flex;align-items: stretch;justify-content: center;background-color: white;position: relative;}#sk-container-id-1 div.sk-item::before, #sk-container-id-1 div.sk-parallel-item::before {content: \"\";position: absolute;border-left: 1px solid gray;box-sizing: border-box;top: 0;bottom: 0;left: 50%;z-index: -1;}#sk-container-id-1 div.sk-parallel-item {display: flex;flex-direction: column;z-index: 1;position: relative;background-color: white;}#sk-container-id-1 div.sk-parallel-item:first-child::after {align-self: flex-end;width: 50%;}#sk-container-id-1 div.sk-parallel-item:last-child::after {align-self: flex-start;width: 50%;}#sk-container-id-1 div.sk-parallel-item:only-child::after {width: 0;}#sk-container-id-1 div.sk-dashed-wrapped {border: 1px dashed gray;margin: 0 0.4em 0.5em 0.4em;box-sizing: border-box;padding-bottom: 0.4em;background-color: white;}#sk-container-id-1 div.sk-label label {font-family: monospace;font-weight: bold;display: inline-block;line-height: 1.2em;}#sk-container-id-1 div.sk-label-container {text-align: center;}#sk-container-id-1 div.sk-container {/* jupyter's `normalize.less` sets `[hidden] { display: none; }` but bootstrap.min.css set `[hidden] { display: none !important; }` so we also need the `!important` here to be able to override the default hidden behavior on the sphinx rendered scikit-learn.org. See: https://github.com/scikit-learn/scikit-learn/issues/21755 */display: inline-block !important;position: relative;}#sk-container-id-1 div.sk-text-repr-fallback {display: none;}</style><div id=\"sk-container-id-1\" class=\"sk-top-container\"><div class=\"sk-text-repr-fallback\"><pre>LogisticRegression(C=10, max_iter=1000, random_state=42, solver=&#x27;liblinear&#x27;)</pre><b>In a Jupyter environment, please rerun this cell to show the HTML representation or trust the notebook. <br />On GitHub, the HTML representation is unable to render, please try loading this page with nbviewer.org.</b></div><div class=\"sk-container\" hidden><div class=\"sk-item\"><div class=\"sk-estimator sk-toggleable\"><input class=\"sk-toggleable__control sk-hidden--visually\" id=\"sk-estimator-id-1\" type=\"checkbox\" checked><label for=\"sk-estimator-id-1\" class=\"sk-toggleable__label sk-toggleable__label-arrow\">LogisticRegression</label><div class=\"sk-toggleable__content\"><pre>LogisticRegression(C=10, max_iter=1000, random_state=42, solver=&#x27;liblinear&#x27;)</pre></div></div></div></div></div>"
      ],
      "text/plain": [
       "LogisticRegression(C=10, max_iter=1000, random_state=42, solver='liblinear')"
      ]
     },
     "execution_count": 28,
     "metadata": {},
     "output_type": "execute_result"
    }
   ],
   "source": [
    "# TRAINING LOGISTIC REGRESSSION MODEL:\n",
    "\n",
    "# model = LogisticRegression(solver='lbfgs')\n",
    "model = LogisticRegression(solver='liblinear', C=10, max_iter=1000, random_state=42)\n",
    "# solver='lbfgs' is the default solver in newer version of sklearn\n",
    "# for older versions, you need to specify it explicitly\n",
    "model.fit(X_train, y_train)"
   ]
  },
  {
   "cell_type": "code",
   "execution_count": 33,
   "id": "36a5e1e0-be51-4740-8124-10aebc4a81ed",
   "metadata": {},
   "outputs": [
    {
     "name": "stdout",
     "output_type": "stream",
     "text": [
      "Answer for question 4: 0.93\n"
     ]
    }
   ],
   "source": [
    "# INITIALIZING THE MODEL PREDICTION:\n",
    "y_pred = model.predict(X_val)\n",
    "\n",
    "#@ INSPECTING THE ACCURACY:\n",
    "accuracy = np.round(accuracy_score(y_val, y_pred),2)\n",
    "print(f\"Answer for question 4: {accuracy:.2f}\")"
   ]
  },
  {
   "cell_type": "code",
   "execution_count": 34,
   "id": "938557df-d21f-438e-93fc-40131f3ae146",
   "metadata": {},
   "outputs": [
    {
     "data": {
      "text/plain": [
       "['make',\n",
       " 'model',\n",
       " 'transmission_type',\n",
       " 'vehicle_style',\n",
       " 'engine_hp',\n",
       " 'year',\n",
       " 'highway_mpg',\n",
       " 'engine_cylinders',\n",
       " 'city_mpg']"
      ]
     },
     "execution_count": 34,
     "metadata": {},
     "output_type": "execute_result"
    }
   ],
   "source": [
    "# INITIALIZING FEATURES:\n",
    "features = categorical + numerical\n",
    "features"
   ]
  },
  {
   "cell_type": "code",
   "execution_count": 35,
   "id": "76c3c069-94f4-4c77-9617-21dc66f3bd65",
   "metadata": {},
   "outputs": [
    {
     "name": "stdout",
     "output_type": "stream",
     "text": [
      "make -0.01670583298363404 0.9467058329836341\n",
      "model 0.005954678976080596 0.9240453210239195\n",
      "transmission_type -0.013348720100713307 0.9433487201007134\n",
      "vehicle_style -0.007054133445237087 0.9370541334452371\n",
      "engine_hp -0.0003399076793956235 0.9303399076793957\n",
      "year -0.01712547209399906 0.9471254720939991\n",
      "highway_mpg -0.014607637431808596 0.9446076374318086\n",
      "engine_cylinders -0.016286193873268906 0.946286193873269\n",
      "city_mpg -0.002438103231221067 0.9324381032312211\n"
     ]
    }
   ],
   "source": [
    "# INSPECTING THE DIFFERENCE IN ACCURACY:\n",
    "orig_score = accuracy\n",
    "\n",
    "for c in features:\n",
    "    subset = features.copy()\n",
    "    subset.remove(c)\n",
    "    \n",
    "    train_dict = df_train[subset].to_dict(orient='records')\n",
    "\n",
    "    dv = DictVectorizer(sparse=False)\n",
    "    dv.fit(train_dict)\n",
    "\n",
    "    X_train = dv.transform(train_dict)\n",
    "\n",
    "    model = LogisticRegression(solver='liblinear', C=10, max_iter=1000, random_state=42)\n",
    "    model.fit(X_train, y_train)\n",
    "\n",
    "    val_dict = df_val[subset].to_dict(orient='records')\n",
    "    X_val = dv.transform(val_dict)\n",
    "\n",
    "    y_pred = model.predict(X_val)\n",
    "\n",
    "    score = accuracy_score(y_val, y_pred)\n",
    "    print(c, orig_score - score, score)\n",
    "     "
   ]
  },
  {
   "cell_type": "code",
   "execution_count": null,
   "id": "d11236da-2d4e-4375-9171-ff80b5dce2b0",
   "metadata": {},
   "outputs": [],
   "source": [
    "# So the answer for question 5 is engine"
   ]
  },
  {
   "cell_type": "code",
   "execution_count": 37,
   "id": "6c043c43-e60d-4160-be05-6dced024b629",
   "metadata": {},
   "outputs": [],
   "source": [
    "df['price']=np.log1p(df['price'])\n",
    "\n",
    "# SPLITTING THE DATASET:\n",
    "df_full_train, df_test = train_test_split(df, test_size=0.2, random_state=42)\n",
    "df_train, df_val = train_test_split(df_full_train, test_size=0.25, random_state=42)\n",
    "\n",
    "# PREPARING THE DATASET:\n",
    "df_train = df_train.reset_index(drop=True)\n",
    "df_val = df_val.reset_index(drop=True)\n",
    "df_test = df_test.reset_index(drop=True)\n",
    "\n",
    "y_train = df_train.price.values\n",
    "y_val = df_val.price.values\n",
    "y_test = df_test.price.values\n",
    "\n",
    "del df_train['above_average']\n",
    "del df_val['above_average']\n",
    "del df_test['above_average']\n",
    "del df_train['price']\n",
    "del df_val['price']\n",
    "del df_test['price']"
   ]
  },
  {
   "cell_type": "markdown",
   "id": "9fbe2b2d-693d-4f99-aa6b-f6c66a705eb4",
   "metadata": {},
   "source": [
    "### Ridge Regression"
   ]
  },
  {
   "cell_type": "code",
   "execution_count": 40,
   "id": "b6258e8c-076f-43f6-9899-e0ee743aa9a5",
   "metadata": {},
   "outputs": [
    {
     "name": "stderr",
     "output_type": "stream",
     "text": [
      "/Users/jun/miniforge3/envs/ml-zoomcamp/lib/python3.9/site-packages/sklearn/linear_model/_sag.py:350: ConvergenceWarning: The max_iter was reached which means the coef_ did not converge\n",
      "  warnings.warn(\n"
     ]
    },
    {
     "name": "stdout",
     "output_type": "stream",
     "text": [
      "0 0.487\n"
     ]
    },
    {
     "name": "stderr",
     "output_type": "stream",
     "text": [
      "/Users/jun/miniforge3/envs/ml-zoomcamp/lib/python3.9/site-packages/sklearn/linear_model/_sag.py:350: ConvergenceWarning: The max_iter was reached which means the coef_ did not converge\n",
      "  warnings.warn(\n"
     ]
    },
    {
     "name": "stdout",
     "output_type": "stream",
     "text": [
      "0.01 0.487\n"
     ]
    },
    {
     "name": "stderr",
     "output_type": "stream",
     "text": [
      "/Users/jun/miniforge3/envs/ml-zoomcamp/lib/python3.9/site-packages/sklearn/linear_model/_sag.py:350: ConvergenceWarning: The max_iter was reached which means the coef_ did not converge\n",
      "  warnings.warn(\n"
     ]
    },
    {
     "name": "stdout",
     "output_type": "stream",
     "text": [
      "0.1 0.487\n"
     ]
    },
    {
     "name": "stderr",
     "output_type": "stream",
     "text": [
      "/Users/jun/miniforge3/envs/ml-zoomcamp/lib/python3.9/site-packages/sklearn/linear_model/_sag.py:350: ConvergenceWarning: The max_iter was reached which means the coef_ did not converge\n",
      "  warnings.warn(\n"
     ]
    },
    {
     "name": "stdout",
     "output_type": "stream",
     "text": [
      "1 0.487\n",
      "10 0.487\n"
     ]
    },
    {
     "name": "stderr",
     "output_type": "stream",
     "text": [
      "/Users/jun/miniforge3/envs/ml-zoomcamp/lib/python3.9/site-packages/sklearn/linear_model/_sag.py:350: ConvergenceWarning: The max_iter was reached which means the coef_ did not converge\n",
      "  warnings.warn(\n"
     ]
    }
   ],
   "source": [
    "dv = DictVectorizer(sparse=False)\n",
    "\n",
    "train_dict = df_train[categorical + numerical].to_dict(orient='records')\n",
    "X_train = dv.fit_transform(train_dict)\n",
    "\n",
    "val_dict = df_val[categorical + numerical].to_dict(orient='records')\n",
    "X_val = dv.transform(val_dict)\n",
    "\n",
    "# RIDGE REGRESSION IMPLEMENTATION:\n",
    "for a in [0, 0.01, 0.1, 1, 10]:\n",
    "    model = Ridge(alpha=a, solver=\"sag\", random_state=42)\n",
    "    model.fit(X_train, y_train)\n",
    "    \n",
    "    y_pred = model.predict(X_val)\n",
    "    \n",
    "    score = np.sqrt(mean_squared_error(y_val, y_pred))\n",
    "    \n",
    "    print(a, round(score, 3))"
   ]
  },
  {
   "cell_type": "code",
   "execution_count": null,
   "id": "d077100f-bc88-4b66-a44b-7085936b9d6f",
   "metadata": {},
   "outputs": [],
   "source": []
  }
 ],
 "metadata": {
  "kernelspec": {
   "display_name": "Python 3 (ipykernel)",
   "language": "python",
   "name": "python3"
  },
  "language_info": {
   "codemirror_mode": {
    "name": "ipython",
    "version": 3
   },
   "file_extension": ".py",
   "mimetype": "text/x-python",
   "name": "python",
   "nbconvert_exporter": "python",
   "pygments_lexer": "ipython3",
   "version": "3.9.18"
  }
 },
 "nbformat": 4,
 "nbformat_minor": 5
}
